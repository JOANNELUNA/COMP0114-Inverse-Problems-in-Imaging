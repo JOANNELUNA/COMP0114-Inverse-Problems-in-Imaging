{
 "cells": [
  {
   "attachments": {},
   "cell_type": "markdown",
   "metadata": {},
   "source": [
    "# GOMP0114 Inverse Problems in Imaging. Coursework 4\n",
    "## Part A \n",
    "### 1. Calculate the Radon transform of an image and test the back-projection method.\n",
    "(1) Firstly, I load and display the Shepp-Logan phantom image of size 128 ×128 with a numpy file called 'SLphan.npy', which is a commonly used test image in medical imaging. The Shepp-Logan phantom is a 2D image that simulates the attenuation properties of various tissue types in a human head, and is often used to test and evaluate image reconstruction algorithms. I refer this 128 ×128 image as $f_{true}$.\n",
    "\n",
    "![solution](ftrue.png)\n",
    "\n"
   ]
  },
  {
   "attachments": {},
   "cell_type": "markdown",
   "metadata": {},
   "source": [
    "(2) Then, I generate the sinogram of the Shepp-Logan phantom image using the ASTRA toolbox, which is a collection of fast and accurate algorithms for tomographic image reconstruction, with following steps:\n",
    "\n",
    "* Firstly, create a *volume geometry object* using the function `create_vol_geom` and the dimensions of the original image. This object specifies the size and shape of the 2D volume that the image will be reconstructed into.\n",
    "\n",
    "* Secondly, generates a set of *projection geometries* using the `create_proj_geom` function from `ASTRA`. These geometries specify the angles at which projections of the image will be taken, as well as the number of detector pixels in each projection.\n",
    "\n",
    "* Thirdly, create a *projector object* using the `create_projector` function from `ASTRA`. This object is used to project the image onto the detector array, which generates the sinogram.\n",
    "\n",
    "* Then, generate the *sinogram* of the Shepp-Logan phantom image using the `create_sino` function from `ASTRA`. This function takes the *original image data* and *projector object* as input, and returns the sinogram data as output.\n",
    "\n",
    "![solution](signogram.png)\n",
    "\n",
    "**For the size of this sinogram and how is this determined:**\n",
    "\n",
    "* The size of the sinogram is determined by the number of projection angles and the number of projection positions for each angle (which is the same as the length of the diagonal of the image, rounded up to the nearest integer). In this case, since the Shepp-Logan phantom has a size of $(128, 128)$, the length of the diagonal is $\\sqrt{128^2 + 128^2} \\approx 181$, so the sinogram has a size of $(180, 181)$. \n",
    "\n"
   ]
  },
  {
   "attachments": {},
   "cell_type": "markdown",
   "metadata": {},
   "source": [
    "(3) Then, I perform a simple unfiltered back-projection reconstruction of the Shepp-Logan phantom image using the ASTRA toolbox. with following steps:\n",
    "\n",
    "* Firstly, creates a *data object for the reconstruction* using the `data2d.create` function from `ASTRA`. This object specifies the size and shape of the 2D volume that the image will be reconstructed into.\n",
    "\n",
    "* Secondly, set up the parameters for the back-projection reconstruction using the `astra_dict` function from `ASTRA`. These parameters include the *data and geometry objects for the reconstruction and sinogram*, as well as the *projector object* used to generate the sinogram.\n",
    "\n",
    "* Thirdly, create an *algorithm object* from the configuration structure using the `algorithm.create` function from `ASTRA`. This object specifies the reconstruction algorithm to be used, which in this case is the unfiltered back-projection algorithm ('BP').\n",
    "\n",
    "* Finally, executes the back-projection algorithm using the `algorithm.run` function from `ASTRA`, and return reconstructed image data by using `data2d.get` function.\n",
    "\n",
    "![solution](BP.png)\n",
    "\n",
    "For the size of the back-projected image:\n",
    "\n",
    "* The size of BP image is $(128, 128)$ which is the same as the size of origianl image.\n"
   ]
  },
  {
   "attachments": {},
   "cell_type": "markdown",
   "metadata": {},
   "source": [
    "(4) Then, I use the ASTRA toolbox to perform a filtered back-projection reconstruction of the Shepp-Logan phantom image. \n",
    "\n",
    "* The reconstruction steps were similar to those used for unfiltered back-projection reconstruction, with the alternative step of creating an algorithm object that specifies the reconstruction algorithm as filtered back-projection ('FBP').\n",
    "\n",
    "![solution](FBP.png)\n",
    "\n",
    "**Define whether FBP provide a good estimate of the inverse of the Radon transform:**\n",
    "\n",
    "By computing the mean squared error (MSE) and peak signal-to-noise ratio (PSNR) for the unfiltered back-projection and filtered back-projection reconstructed images, compared to the original Shepp-Logan phantom image:\n",
    "\n",
    "Unfiltered back-projection: $MSE = 8670550.3647, PSNR = -69.3805 \\text{dB}$\n",
    "\n",
    "Filtered back-projection: $MSE = 0.01 , PSNR = 20.88 \\text{dB}$\n",
    "\n",
    "MSE stands for Mean Squared Error. It provides a quantitative measure of how much the reconstructed image deviates from the true image. PSNR stands for Peak Signal-to-Noise Ratio. It provides a more human-interpretable measure of image quality, where a higher PSNR value indicates a higher quality image.\n",
    "\n",
    "Overall, the filtered back-projection appears to be a good estimate of the inverse of the Radon transform, as evidenced by the low MSE and high PSNR values. \n",
    "\n",
    "**Problem encountered:**\n",
    "\n",
    "The `add_noise_to_sino` function calculates noise by division with respect to intensity and multiplication with respect to the logarithm of the sinogram. Therefore, it is important to choose a non-zero intensity value and ensure that all components in the sinogram are also non-zero, as division or taking the logarithm of zero is undefined."
   ]
  },
  {
   "attachments": {},
   "cell_type": "markdown",
   "metadata": {},
   "source": [
    "(5) To check how the error in the reconstruction grows with the scale of the measurement noise, I compute the MSE value against the background intensity.\n",
    "\n",
    "![solution](FBP_noise.png)\n",
    "\n",
    "The MSE value is plotted against the background intensity, which is inversely proportional to the noise level, as shown above. \n",
    "\n",
    "The error in reconstruction generally increases as the measurement noise level increases. This is because the noise adds a random component to the measurements, which in turn affects the reconstructed image. The higher the noise level, the more significant the impact on the reconstructed image. Therefore, in general, it is desirable to minimize the measurement noise level to obtain more accurate reconstructions.\n",
    "\n",
    "However, it is important to note that this relationship between background intensity and the error in reconstruction is not linear. The rate of decrease slows down as the background intensity increases. For example, the decrease in error is more significant for background intensity values between 1 and 10 compared to values between 10 and 20, and similarly for values between 10 and 20 compared to values between 20 and 30, and so on."
   ]
  },
  {
   "attachments": {},
   "cell_type": "markdown",
   "metadata": {},
   "source": [
    "### 2. Calculate an explicit matrix form of the Radon transform and investigate its SVD.\n",
    "\n",
    "The singular value decomposition (SVD) of the explicit matrix form of the Radon transform provides insights into image's properties and structure. In the case of the Radon transform. When varying the range of angles and number of projections, the amount of information available to reconstruct the image is essentially changed. The number of projections determines the amount of information about the object's geometry, while the range of angles determines the coverage of projections. As the number of projections or the range of angles is increased, more information about the object's structure is captured, resulting in a larger number of singular values in the SVD spectrum. \n",
    "\n",
    "(1) Firstly, compute and plot the singular value spectrum for the Radon transform matrix of a given image size, for *different numbers of projection angles*. \n",
    "\n",
    "The function takes in two arguments: *image_size*, which is an integer specifying the size of the square image to use, and *num_angles_list*, which is a list of integers specifying the number of projection angles to use for each computation.\n",
    "\n",
    "It first creates a zero matrix $A$ of appropriate size, and loops over each pixel in the image. For each pixel, it creates a new image with a single pixel of value $1$ at that position, takes the Radon transform of that image, and reshapes the result into a column vector. The column vector is then added to the matrix $A$.\n",
    "\n",
    "Once all the columns have been added to $A$, the function computes the singular value decomposition of $A$ using NumPy's `linalg.svd` function. It then plots the singular values of the matrix against their index, both for each individual computation and for all the computations together.\n",
    "\n",
    "![solution](SVD_n_all.png)\n",
    "\n",
    "![solution](SVD_n.png)\n",
    "\n",
    "The graph above shows the distribution of singular values of the Radon transform matrix for different numbers of projections (i.e. angles) in the range 0 to 180 degrees.\n",
    "\n",
    "* As the number of projections increases, the index range of singular values also increases. This is because increasing the number of projections means more information is available about the image, resulting in a more complete representation of the image in the Radon transform domain. This leads to a larger number of non-zero singular values, which increases the index range of the singular values.\n",
    "\n",
    "* The maximum value of singular value increases as the number of projections increases because increasing the number of projections means more information is available about the image, resulting in a more complete representation of the image in the Radon transform domain. This leads to a larger maximum singular value, which indicates that there is a stronger signal in the data.\n",
    "\n",
    "* The shape of the distribution of singular values among its index is similar as the number of projections increases because increasing the number of projections means more information is available about the image, resulting in a more complete representation of the image in the Radon transform domain. This leads to a more uniform distribution of singular values, which indicates that there is less noise in the data. As a result, the shape of the singular value distribution becomes more uniform and less sensitive to small changes in the number of projections, as long as the number of projections is sufficiently large. This is because the additional information provided by the extra projections helps to fill in gaps in the singular value distribution and reduce the effects of noise in the data.\n",
    "\n",
    "* Finally, the value of the singular value decreases along its index because the singular values represent the contribution of each singular vector to the image. The first few singular vectors represent the most significant contributions to the image, while the later singular vectors represent less significant contributions. As the number of projections increases, the first few singular vectors become more significant and contribute more to the image, while the later singular vectors become less significant and contribute less to the image. This leads to a decrease in the value of the singular values along its index.\n"
   ]
  },
  {
   "attachments": {},
   "cell_type": "markdown",
   "metadata": {},
   "source": [
    "(2) Secondly, compute and plot the singular value spectrum for the Radon transform matrix of a given image size, for *different range of projection angles*. \n",
    "\n",
    "The method is similar to the previous function, but instead of changing the number of projections for the sinogram, this function changes the range of projection angles while keeping the number of projections fixed at $45$. The maximum angle range is varied by changing the *max_angles* parameter, and the resulting SVD spectrum is plotted against the maximum angle range.\n",
    "\n",
    "![solution](SVD_r_all.png)\n",
    "\n",
    "![solution](SVD_r.png)\n",
    "\n",
    "The graph of the SVD spectrum shows how the singular values of the Radon transform matrix vary with the range of angles used to generate the projection data. \n",
    "\n",
    "* The index range of singular values , as well as the maximum value of singular value, remain the same as the range of angles increases because the number of projection samples remains constant. The matrix $A$ is constructed with a fixed number of projection samples, which determines the number of rows in the matrix and the maximum index range of the singular values. The range of angles determines the number of columns in the matrix and the number of non-zero singular values, but it does not affect the index range of the singular values as well as the maximum singular value..\n",
    "\n",
    "* The distribution of singular values does not change proportionally as the range of angles increases because the limited-angle projection data contains less information about the image than the full-angle projection data. As a result, the limited-angle projection data may lead to a more incomplete and uneven representation of the image in the Radon transform domain, which can affect the shape and distribution of the singular values.\n",
    "\n",
    "In particular, the limited-angle projection data may lead to missing or distorted features in the image, which can result in gaps or peaks in the singular value distribution at certain indices. These gaps or peaks may be more prominent at intermediate indices, where the contribution of the missing or distorted features is most significant. The effect of limited-angle projection data on the singular value distribution can depend on the specific image and projection geometry, and may require careful regularization or reconstruction techniques to mitigate."
   ]
  },
  {
   "cell_type": "markdown",
   "metadata": {},
   "source": []
  }
 ],
 "metadata": {
  "language_info": {
   "name": "python"
  },
  "orig_nbformat": 4
 },
 "nbformat": 4,
 "nbformat_minor": 2
}
